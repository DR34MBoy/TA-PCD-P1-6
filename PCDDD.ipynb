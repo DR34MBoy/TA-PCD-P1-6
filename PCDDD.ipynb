{
  "cells": [
    {
      "cell_type": "code",
      "execution_count": 1,
      "metadata": {
        "id": "nEns99zqbBLP"
      },
      "outputs": [
        {
          "ename": "ModuleNotFoundError",
          "evalue": "No module named 'cv2'",
          "output_type": "error",
          "traceback": [
            "\u001b[1;31m---------------------------------------------------------------------------\u001b[0m",
            "\u001b[1;31mModuleNotFoundError\u001b[0m                       Traceback (most recent call last)",
            "Cell \u001b[1;32mIn[1], line 1\u001b[0m\n\u001b[1;32m----> 1\u001b[0m \u001b[39mimport\u001b[39;00m \u001b[39mcv2\u001b[39;00m\n\u001b[0;32m      2\u001b[0m \u001b[39mimport\u001b[39;00m \u001b[39mnumpy\u001b[39;00m \u001b[39mas\u001b[39;00m \u001b[39mnp\u001b[39;00m\n\u001b[0;32m      3\u001b[0m \u001b[39mimport\u001b[39;00m \u001b[39mmatplotlib\u001b[39;00m\u001b[39m.\u001b[39;00m\u001b[39mpyplot\u001b[39;00m \u001b[39mas\u001b[39;00m \u001b[39mplt\u001b[39;00m\n",
            "\u001b[1;31mModuleNotFoundError\u001b[0m: No module named 'cv2'"
          ]
        }
      ],
      "source": [
        "import cv2\n",
        "import numpy as np\n",
        "import matplotlib.pyplot as plt\n",
        "import os\n",
        "import sklearn\n",
        "from sklearn.model_selection import train_test_split, GridSearchCV\n",
        "from sklearn.ensemble import RandomForestClassifier\n",
        "from sklearn.metrics import accuracy_score\n",
        "from sklearn.model_selection import StratifiedKFold\n",
        "from sklearn.ensemble import RandomForestClassifier\n",
        "from sklearn.cluster import KMeans"
      ]
    },
    {
      "cell_type": "code",
      "execution_count": null,
      "metadata": {
        "id": "C6dzlG56cU2j"
      },
      "outputs": [],
      "source": [
        "### TRAINING ###\n",
        "directory_path = r'images_new'\n",
        "print(len(os.listdir(directory_path)))\n",
        "\n",
        "label = []\n",
        "for i in os.listdir(directory_path):\n",
        "    if i.split('_')[0] == 'Parasitized':\n",
        "        label.append(\"Parasitized\")\n",
        "    elif i.split('_')[0] == 'Uninfected':\n",
        "        label.append(\"Uninfected\")"
      ]
    },
    {
      "cell_type": "code",
      "execution_count": null,
      "metadata": {
        "id": "XLEb2RADevPI"
      },
      "outputs": [],
      "source": [
        "features = []\n",
        "for i in os.listdir(directory_path):\n",
        "    f = cv2.imread(os.path.join(directory_path, i), cv2.COLOR_BGR2GRAY)\n",
        "    resized_f = cv2.resize(f, (100, 100))\n",
        "    features.append(resized_f)"
      ]
    },
    {
      "cell_type": "code",
      "execution_count": null,
      "metadata": {
        "id": "x7348Ywmey1q"
      },
      "outputs": [],
      "source": [
        "X = np.array(features)\n",
        "Y = np.array(label)\n",
        "X = X.reshape(len(features), -1)\n",
        "\n",
        "x_train, x_test, y_train, y_test = train_test_split(X, Y, test_size=0.3, random_state=5)\n",
        "\n"
      ]
    },
    {
      "cell_type": "code",
      "execution_count": null,
      "metadata": {
        "id": "0wfm6UAye6mn"
      },
      "outputs": [],
      "source": [
        "# Random Forest Classifier tanpa tuning\n",
        "# rf = RandomForestClassifier()\n",
        "# rf.fit(x_train, y_train)\n",
        "\n",
        "# y_pred_train = rf.predict(x_train)\n",
        "#     # predictions for test\n",
        "# y_pred_test = rf.predict(x_test)\n",
        "#     # training metrics\n",
        "# print(\"Training metrics:\")\n",
        "# print(sklearn.metrics.classification_report(y_true= y_train, y_pred= y_pred_train))\n",
        "\n",
        "#     # test data metrics\n",
        "# print(\"Test data metrics:\")\n",
        "# print(sklearn.metrics.classification_report(y_true= y_test, y_pred= y_pred_test))\n",
        "\n",
        "\n",
        "# Random Forest Classifier dengan tuning\n",
        "\n",
        "# parameters = {  'n_estimators':[50,60,70,80,90,100],\n",
        "#                 # 'min_samples_leaf':[1,2,3,4],\n",
        "#                 'max_depth':[10,20,30],\n",
        "#                 # 'max_features':[10,20,30,40,50,60,70,80,90,100],\n",
        "#                 # 'criterion':['gini','entropy']\n",
        "#             }"
      ]
    },
    {
      "cell_type": "code",
      "execution_count": null,
      "metadata": {
        "id": "P8rdjFZVe7hK"
      },
      "outputs": [],
      "source": [
        "# rf = RandomForestClassifier(n_estimators=100, max_depth=50, min_samples_leaf=1, max_features=100)\n",
        "rf = RandomForestClassifier(n_estimators=100, max_depth=50)\n",
        "rf.fit(x_train, y_train)\n"
      ]
    },
    {
      "cell_type": "code",
      "execution_count": null,
      "metadata": {
        "id": "69OnvkNqe-LV"
      },
      "outputs": [],
      "source": [
        "y_pred_train = rf.predict(x_train)\n",
        "    # predictions for test\n",
        "y_pred_test = rf.predict(x_test)\n",
        "    # training metrics\n",
        "print(\"Training metrics:\")\n",
        "print(sklearn.metrics.classification_report(y_true= y_train, y_pred= y_pred_train))"
      ]
    },
    {
      "cell_type": "code",
      "execution_count": null,
      "metadata": {
        "id": "7n436h63fH13"
      },
      "outputs": [],
      "source": [
        "# test data metrics\n",
        "print(\"Test data metrics:\")\n",
        "print(sklearn.metrics.classification_report(y_true= y_test, y_pred= y_pred_test))"
      ]
    },
    {
      "cell_type": "code",
      "execution_count": null,
      "metadata": {
        "id": "tJMJJVacfIgg"
      },
      "outputs": [],
      "source": [
        "# rf = RandomForestClassifier()\n",
        "# clf = GridSearchCV(rf, param_grid=parameters)\n",
        "# model = clf.fit(x_train,y_train)\n",
        "\n",
        "# y_pred_train = model.predict(x_train)\n",
        "#     # predictions for test\n",
        "# y_pred_test = model.predict(x_test)\n",
        "#     # training metrics\n",
        "# print(\"Training metrics:\")\n",
        "# print(sklearn.metrics.classification_report(y_true= y_train, y_pred= y_pred_train))\n",
        "\n",
        "#     # test data metrics\n",
        "# print(\"Test data metrics:\")\n",
        "# print(sklearn.metrics.classification_report(y_true= y_test, y_pred= y_pred_test))\n"
      ]
    },
    {
      "cell_type": "code",
      "execution_count": null,
      "metadata": {
        "id": "ohnmg8RXfNTj"
      },
      "outputs": [],
      "source": [
        "\n",
        "def test(img):\n",
        "    resize_img = cv2.resize(img, (100, 100))\n",
        "    array_image = np.array(resize_img)\n",
        "    array_image = array_image.reshape(1, -1)\n",
        "\n",
        "    print(rf.predict(array_image).reshape(1, -1))\n",
        "\n",
        "    plt.imshow(array_image.reshape(100, 100, 3))\n",
        "    plt.show()"
      ]
    }
  ],
  "metadata": {
    "colab": {
      "provenance": []
    },
    "kernelspec": {
      "display_name": "Python 3",
      "language": "python",
      "name": "python3"
    },
    "language_info": {
      "codemirror_mode": {
        "name": "ipython",
        "version": 3
      },
      "file_extension": ".py",
      "mimetype": "text/x-python",
      "name": "python",
      "nbconvert_exporter": "python",
      "pygments_lexer": "ipython3",
      "version": "3.11.1"
    },
    "vscode": {
      "interpreter": {
        "hash": "5f47b8031d7beb997289a92913a3f5eb1cd728b831b3d0fb7292bb5a69f9bd66"
      }
    }
  },
  "nbformat": 4,
  "nbformat_minor": 0
}
